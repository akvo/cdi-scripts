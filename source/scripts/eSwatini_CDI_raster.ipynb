{
  "nbformat": 4,
  "nbformat_minor": 0,
  "metadata": {
    "colab": {
      "provenance": [],
      "include_colab_link": true
    },
    "kernelspec": {
      "name": "python3",
      "display_name": "Python 3"
    },
    "language_info": {
      "name": "python"
    }
  },
  "cells": [
    {
      "cell_type": "markdown",
      "metadata": {
        "id": "view-in-github",
        "colab_type": "text"
      },
      "source": [
        "<a href=\"https://colab.research.google.com/github/akvo/cdi-scripts/blob/feature%2F17-scripts-update-2024-11-27/source/scripts/eSwatini_CDI_raster.ipynb\" target=\"_parent\"><img src=\"https://colab.research.google.com/assets/colab-badge.svg\" alt=\"Open In Colab\"/></a>"
      ]
    },
    {
      "cell_type": "code",
      "execution_count": null,
      "metadata": {
        "id": "ws6EyZZr4MbN"
      },
      "outputs": [],
      "source": [
        "pip install geopandas rasterio rasterstats numpy folium rioxarray"
      ]
    },
    {
      "cell_type": "code",
      "source": [
        "import rasterio\n",
        "import numpy as np\n",
        "import geopandas as gpd\n",
        "import folium\n",
        "import matplotlib.pyplot as plt\n",
        "import rioxarray as rxr\n",
        "from branca.colormap import StepColormap\n",
        "from rasterio import open as rio_open\n",
        "from rasterstats import zonal_stats"
      ],
      "metadata": {
        "id": "G_co5qn64T5z"
      },
      "execution_count": null,
      "outputs": []
    },
    {
      "cell_type": "code",
      "source": [
        "input_file = \"https://github.com/akvo/cdi-scripts/raw/refs/heads/main/source/sample_data/eswatini_sample_CDI.tif\"\n",
        "output_percentile_file = \"eswatini_percentile.tif\"\n",
        "nodata_value = -9999\n",
        "percentile = 50\n",
        "geojson_file = \"https://github.com/akvo/cdi-scripts/raw/refs/heads/main/source/sample_data/eswatini.geojson\""
      ],
      "metadata": {
        "id": "pFErMTdx4hZG"
      },
      "execution_count": null,
      "outputs": []
    },
    {
      "cell_type": "code",
      "source": [
        "# Read the raster data\n",
        "with rasterio.open(input_file) as src:\n",
        "    raster_stack = src.read()  # Read all bands into a 3D array (bands, rows, columns)\n",
        "    profile = src.profile  # Get raster metadata\n",
        "    transform = src.transform  # Original raster's transform\n",
        "    crs = src.crs\n",
        "\n",
        "# Mask NoData values\n",
        "print(\"Data Shape:\", raster_stack.shape)\n",
        "mask = raster_stack == nodata_value\n",
        "raster_array=np.where(mask, np.nan, raster_stack)\n",
        "# raster_array\n"
      ],
      "metadata": {
        "id": "GGRIjfpmHtJT"
      },
      "execution_count": null,
      "outputs": []
    },
    {
      "cell_type": "code",
      "source": [
        "flat_raster = raster_array.flatten()\n",
        "ranks = np.argsort(np.argsort(flat_raster))\n",
        "percentiles = (ranks / (len(flat_raster) - 1)) * 100\n",
        "percentile_raster = percentiles.reshape(raster_array.shape)"
      ],
      "metadata": {
        "id": "I_DNO0WmqBbk"
      },
      "execution_count": null,
      "outputs": []
    },
    {
      "cell_type": "code",
      "source": [
        "with rasterio.open(\n",
        "    output_percentile_file,\n",
        "    'w',\n",
        "    driver='GTiff',\n",
        "    height=percentile_raster.shape[1],\n",
        "    width=percentile_raster.shape[2],\n",
        "    # count=percentile_raster.shape[0],  # Number of bands\n",
        "    count=1,  # One band (single-band raster)\n",
        "    dtype=percentile_raster.dtype,  # Data type of the raster\n",
        "    crs=crs,  # Use the same CRS as the original raster\n",
        "    transform=transform\n",
        "\n",
        ") as dst:\n",
        "    dst.write(percentile_raster[0, :, :], 1)"
      ],
      "metadata": {
        "id": "KwDFzvOyqRfJ"
      },
      "execution_count": null,
      "outputs": []
    },
    {
      "cell_type": "code",
      "source": [
        "fig, ax = plt.subplots(1, 1)\n",
        "fig.set_size_inches(12, 10)\n",
        "rds = rxr.open_rasterio(output_percentile_file)\n",
        "band = rds.sel(band=1)\n",
        "band.plot.imshow(ax=ax, cmap='Greys_r')\n",
        "ax.set_title('esWatini percentile')\n",
        "plt.show()"
      ],
      "metadata": {
        "id": "wY-0CNs9K7zV"
      },
      "execution_count": null,
      "outputs": []
    },
    {
      "cell_type": "code",
      "source": [
        "# pip install leafmap mapclassify\n",
        "# stats_cdi=zonal_stats(\n",
        "#     geojson_file,          # GeoJSON or GeoDataFrame\n",
        "#     input_file,           # Input raster file\n",
        "#     stats=[\"median\"],      # Statistics to calculate (e.g., 'median')\n",
        "#     nodata=np.nan,         # Ignore NoData values in the raster\n",
        "#     geojson_out=True       # Include GeoJSON data in the output\n",
        "# )\n",
        "# stats_cdi_gdf=gpd.GeoDataFrame.from_features(stats_cdi)\n",
        "# stats_cdi_gdf[[\"geometry\", \"median\"]]\n",
        "# import leafmap\n",
        "# attr=\"median\"\n",
        "# m_cdi = leafmap.Map()\n",
        "# m_cdi.add_data(\n",
        "#     stats_cdi_gdf, column=attr, scheme=\"FisherJenks\",  layer_name=attr,legend_title=attr ,k=5, colors=['#ffffd4','#fed98e','#fe9929','#d95f0e','#993404']\n",
        "# )\n",
        "# m_cdi"
      ],
      "metadata": {
        "id": "kRpKX7SavfyE"
      },
      "execution_count": null,
      "outputs": []
    },
    {
      "cell_type": "code",
      "source": [],
      "metadata": {
        "id": "MjTDu8NFxad7"
      },
      "execution_count": null,
      "outputs": []
    },
    {
      "cell_type": "code",
      "source": [
        "# Calculate zonal statistics\n",
        "stats = zonal_stats(\n",
        "    geojson_file,          # GeoJSON or GeoDataFrame\n",
        "    output_percentile_file,           # Input raster file\n",
        "    stats=[\"median\"],      # Statistics to calculate (e.g., 'median')\n",
        "    nodata=np.nan,         # Ignore NoData values in the raster\n",
        "    geojson_out=True       # Include GeoJSON data in the output\n",
        ")\n",
        "\n",
        "# Convert the result to a GeoDataFrame\n",
        "stats_gdf = gpd.GeoDataFrame.from_features(stats)"
      ],
      "metadata": {
        "id": "zZYGoddm5i0M"
      },
      "execution_count": null,
      "outputs": []
    },
    {
      "cell_type": "code",
      "source": [
        "# Load Raster\n",
        "with rasterio.open(input_file) as src:\n",
        "    print(\"Raster CRS:\", src.crs)\n",
        "# Ensure CRS is set before saving\n",
        "stats_gdf.geometry.set_crs(src.crs, inplace=True)\n",
        "# Display the resulting GeoDataFrame with the calculated 'median' field\n",
        "# stats_gdf[[\"geometry\", \"median\"]]"
      ],
      "metadata": {
        "id": "jFPOKUTWAdQb"
      },
      "execution_count": null,
      "outputs": []
    },
    {
      "cell_type": "code",
      "source": [
        "# Save to a new GeoJSON file\n",
        "geojson_data = \"eswatini_with_median.geojson\"\n",
        "stats_gdf.to_file(geojson_data, driver=\"GeoJSON\")\n",
        "\n",
        "print(f\"Output saved to {geojson_data}\")"
      ],
      "metadata": {
        "id": "UliV0SOr5mRl"
      },
      "execution_count": null,
      "outputs": []
    },
    {
      "cell_type": "code",
      "source": [
        "# Define a function to map median values to colors\n",
        "def get_color(value):\n",
        "    if not value:\n",
        "      return \"#FFFFFF\"\n",
        "    if value <= 2:\n",
        "        return \"#730000\"\n",
        "    elif value <= 5:\n",
        "        return \"#E60000\"\n",
        "    elif value <= 10:\n",
        "        return \"#FFAA00\"\n",
        "    elif value <= 20:\n",
        "        return \"#FCD37F\"\n",
        "    elif value <= 30:\n",
        "        return \"#FFFF00\"\n",
        "    else:\n",
        "        return \"#FFFFFF\"\n",
        "\n",
        "# Create the map\n",
        "lon, lat = 31.4659, -26.5225\n",
        "zoom_start = 8\n",
        "m = folium.Map(location=[lat, lon], tiles=\"OpenStreetMap\", zoom_start=zoom_start)\n",
        "\n",
        "# Add GeoJSON layer with styling\n",
        "folium.GeoJson(\n",
        "    geojson_data,\n",
        "    name=\"choropleth\",\n",
        "    style_function=lambda feature: {\n",
        "        \"fillColor\": get_color(feature[\"properties\"][\"median\"]),\n",
        "        \"color\": \"black\",\n",
        "        \"weight\": 0.5,\n",
        "        \"fillOpacity\": 0.7,\n",
        "    },\n",
        "    highlight_function=lambda feature: {\n",
        "        \"weight\": 3,\n",
        "        \"color\": \"blue\",\n",
        "        \"fillOpacity\": 0.9,\n",
        "    },\n",
        "    tooltip=folium.GeoJsonTooltip(\n",
        "        fields=[\"name\", \"median\"],\n",
        "        aliases=[\"Region:\", \"Median:\"],\n",
        "        localize=True,\n",
        "    ),\n",
        ").add_to(m)\n",
        "\n",
        "# Add a legend manually\n",
        "legend_html = \"\"\"\n",
        "<div style=\"position: fixed;\n",
        "            bottom: 50px; left: 50px; width: 200px; height: 250px;\n",
        "            background-color: white; z-index:9999; font-size:14px;\n",
        "            border:2px solid grey; padding: 10px;\">\n",
        "    <b>Median Value Legend</b><br/><br/>\n",
        "    <span style=\"display: flex;gap: 4px; align-items: center;margin-bottom: 4px;\"><i style=\"background: #730000; width: 20px; height: 20px; display: inline-block;\"></i><i>Exceptional Drought</i></span>\n",
        "    <span style=\"display: flex;gap: 4px; align-items: center;margin-bottom: 4px;\"><i style=\"background: #E60000; width: 20px; height: 20px; display: inline-block;\"></i><i>Extreme Drought</i></span>\n",
        "    <span style=\"display: flex;gap: 4px; align-items: center;margin-bottom: 4px;\"><i style=\"background: #FFAA00; width: 20px; height: 20px; display: inline-block;\"></i><i>Severe Drought</i></span>\n",
        "    <span style=\"display: flex;gap: 4px; align-items: center;margin-bottom: 4px;\"><i style=\"background: #FCD37F; width: 20px; height: 20px; display: inline-block;\"></i><i>Moderate Drought</i></span>\n",
        "    <span style=\"display: flex;gap: 4px; align-items: center;margin-bottom: 4px;\"><i style=\"background: #FFFF00; width: 20px; height: 20px; display: inline-block;\"></i><i>Abnormally Dry</i></span>\n",
        "    <span style=\"display: flex;gap: 4px; align-items: center;margin-bottom: 4px;\"><i style=\"background: #FFFFFF; width: 20px; height: 20px; display: inline-block;border: 1px solid #000;\"></i><i>Normal or wet conditions</i></span>\n",
        "</div>\n",
        "\"\"\"\n",
        "m.get_root().html.add_child(folium.Element(legend_html))\n",
        "\n",
        "# Save or display the map\n",
        "m.save(\"choropleth_map.html\")\n",
        "\n",
        "m"
      ],
      "metadata": {
        "id": "2C1zzsd1-HSn"
      },
      "execution_count": null,
      "outputs": []
    },
    {
      "cell_type": "code",
      "source": [],
      "metadata": {
        "id": "oqB9HaoVHP7n"
      },
      "execution_count": null,
      "outputs": []
    }
  ]
}